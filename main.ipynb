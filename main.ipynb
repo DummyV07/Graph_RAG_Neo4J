{
 "cells": [
  {
   "cell_type": "markdown",
   "metadata": {},
   "source": [
    "# 对话系统"
   ]
  },
  {
   "cell_type": "code",
   "execution_count": 1,
   "metadata": {},
   "outputs": [
    {
     "name": "stdout",
     "output_type": "stream",
     "text": [
      "model init finished ......\n"
     ]
    }
   ],
   "source": [
    "from question_classifier import *\n",
    "from question_parser import *\n",
    "from answer_search import *\n",
    "\n",
    "classifier = QuestionClassifier()#调用问题分类子函数，可以链接追踪\n",
    "parser = QuestionPaser()#调用问题解析子函数\n",
    "searcher = AnswerSearcher()#调用问题搜索子函数"
   ]
  },
  {
   "cell_type": "code",
   "execution_count": 2,
   "metadata": {},
   "outputs": [],
   "source": [
    "def chat_main(sent):\n",
    "    answer = '没能理解您的问题，我的词汇量有限，请输入更加标准的词语'#这是初始答案\n",
    "    res_classify = classifier.classify(sent)#'sent'是用户的输入内容，利用classify函数先对其进行分类\n",
    "    if not res_classify:\n",
    "        return answer#没有找到对应分类内容，返回初始答案\n",
    "    res_sql = parser.parser_main(res_classify)#调用parser_main对内容进行解析\n",
    "    final_answers = searcher.search_main(res_sql)#对内容搜索合适的答案\n",
    "    if not final_answers:\n",
    "        return answer#如果没有找到合适的最终答案，返回初始答案\n",
    "    else:\n",
    "        return '\\n'.join(final_answers)#连接字符"
   ]
  },
  {
   "cell_type": "code",
   "execution_count": 3,
   "metadata": {},
   "outputs": [
    {
     "name": "stdout",
     "output_type": "stream",
     "text": [
      "客服机器人: 没能理解您的问题，我的词汇量有限，请输入更加标准的词语\n",
      "客服机器人: 症状头晕可能染上的疾病有：大楼病综合征\n",
      "客服机器人: 大楼病综合征可能的成因有：高层建筑的大楼里，空气中含有危险的尘埃。这是因为吸烟或使用天然气、煤气、清洁剂、油漆、粘合剂等，不断地释放出许多种有机化学物。由于高楼人们在室内逗留时间较长，加上通风不好，就会使空气“稠化”。\n",
      "它们都在向空间发射不同能量、不同频率的电磁波，由于大楼混凝土板块的作用，电磁波便像幽灵一样，在大楼里荡来荡去，这些电磁波会影响人体固有的电流和磁波，导致心律不齐和神经衰弱。\n",
      "各种新型材料及室内塑料地板、壁纸、家具、涂料等装饰用品，常含有不同程度的有毒成分。这些物质可以通过人体呼吸道和皮肤的吸收，进入血液循环系统，影响机体的免疫力，从而导致病症发生。\n",
      "客服机器人: 没能理解您的问题，我的词汇量有限，请输入更加标准的词语\n"
     ]
    }
   ],
   "source": [
    "while True:#进入一个死循环\n",
    "    question = input('咨询:')\n",
    "    answer = chat_main(question)\n",
    "    print('客服机器人:', answer)\n",
    "    if question == 'exit':\n",
    "        break"
   ]
  },
  {
   "cell_type": "code",
   "execution_count": null,
   "metadata": {},
   "outputs": [],
   "source": []
  }
 ],
 "metadata": {
  "kernelspec": {
   "display_name": "pytorch",
   "language": "python",
   "name": "python3"
  },
  "language_info": {
   "codemirror_mode": {
    "name": "ipython",
    "version": 3
   },
   "file_extension": ".py",
   "mimetype": "text/x-python",
   "name": "python",
   "nbconvert_exporter": "python",
   "pygments_lexer": "ipython3",
   "version": "3.8.18"
  }
 },
 "nbformat": 4,
 "nbformat_minor": 2
}
